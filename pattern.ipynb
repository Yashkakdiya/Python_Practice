{
  "nbformat": 4,
  "nbformat_minor": 0,
  "metadata": {
    "colab": {
      "provenance": []
    },
    "kernelspec": {
      "name": "python3",
      "display_name": "Python 3"
    },
    "language_info": {
      "name": "python"
    }
  },
  "cells": [
    {
      "cell_type": "code",
      "execution_count": 1,
      "metadata": {
        "colab": {
          "base_uri": "https://localhost:8080/"
        },
        "id": "F2TRHD_u6xrr",
        "outputId": "0c0a5521-199f-4c8e-d12a-631afd5c927f"
      },
      "outputs": [
        {
          "output_type": "stream",
          "name": "stdout",
          "text": [
            "1 \n",
            "2 3 \n",
            "4 5 6 \n",
            "7 8 9 10 \n"
          ]
        }
      ],
      "source": [
        "#1\n",
        "n = 4  # Number of rows\n",
        "num = 1\n",
        "\n",
        "for i in range(1, n+1):\n",
        "    for j in range(1, i+1):\n",
        "        print(num, end=\" \")\n",
        "        num += 1\n",
        "    print()  # Move to the next line after each row\n"
      ]
    },
    {
      "cell_type": "code",
      "source": [
        "#2\n",
        "n = 5  # Number of rows\n",
        "\n",
        "for i in range(1, n + 1):\n",
        "    print(' ' * (n - i) + '*' * (2 * i - 1))\n"
      ],
      "metadata": {
        "colab": {
          "base_uri": "https://localhost:8080/"
        },
        "id": "mDnVID-p7Lax",
        "outputId": "c88b8746-86d4-4d1f-9890-ba0035c63ab1"
      },
      "execution_count": 2,
      "outputs": [
        {
          "output_type": "stream",
          "name": "stdout",
          "text": [
            "    *\n",
            "   ***\n",
            "  *****\n",
            " *******\n",
            "*********\n"
          ]
        }
      ]
    },
    {
      "cell_type": "code",
      "source": [
        "#3\n",
        "n = 5  # Number of rows\n",
        "\n",
        "for i in range(1, n + 1):\n",
        "    print('*' * i)\n"
      ],
      "metadata": {
        "colab": {
          "base_uri": "https://localhost:8080/"
        },
        "id": "L9ud61QY7oPu",
        "outputId": "711462e2-ad37-4415-ee5d-24f8bb053889"
      },
      "execution_count": 3,
      "outputs": [
        {
          "output_type": "stream",
          "name": "stdout",
          "text": [
            "*\n",
            "**\n",
            "***\n",
            "****\n",
            "*****\n"
          ]
        }
      ]
    },
    {
      "cell_type": "code",
      "source": [
        "#4\n",
        "n = 5  # Number of rows\n",
        "\n",
        "for i in range(n, 0, -1):\n",
        "    print('*' * i)\n"
      ],
      "metadata": {
        "colab": {
          "base_uri": "https://localhost:8080/"
        },
        "id": "v-cyB3UQ7x0f",
        "outputId": "e6f2ec88-15bd-4457-eeef-e23cdce8eea2"
      },
      "execution_count": 4,
      "outputs": [
        {
          "output_type": "stream",
          "name": "stdout",
          "text": [
            "*****\n",
            "****\n",
            "***\n",
            "**\n",
            "*\n"
          ]
        }
      ]
    },
    {
      "cell_type": "code",
      "source": [
        "#5\n",
        "n = 5  # Number of rows\n",
        "\n",
        "for i in range(1, n + 1):\n",
        "    for j in range(1, i + 1):\n",
        "        print(j, end=\" \")\n",
        "    print()\n"
      ],
      "metadata": {
        "colab": {
          "base_uri": "https://localhost:8080/"
        },
        "id": "Wz769rH374AA",
        "outputId": "316d0519-7476-4e73-8faf-92461c241dbc"
      },
      "execution_count": 5,
      "outputs": [
        {
          "output_type": "stream",
          "name": "stdout",
          "text": [
            "1 \n",
            "1 2 \n",
            "1 2 3 \n",
            "1 2 3 4 \n",
            "1 2 3 4 5 \n"
          ]
        }
      ]
    },
    {
      "cell_type": "code",
      "source": [
        "#6\n",
        "n = 5  # Number of rows\n",
        "num = 1\n",
        "\n",
        "for i in range(1, n + 1):\n",
        "    for j in range(1, i + 1):\n",
        "        print(num, end=\" \")\n",
        "        num += 1\n",
        "    print()\n"
      ],
      "metadata": {
        "colab": {
          "base_uri": "https://localhost:8080/"
        },
        "id": "IJ2BB-i676a0",
        "outputId": "9a6bc0fb-176c-408c-f52c-3ef4b6ebc4dc"
      },
      "execution_count": 6,
      "outputs": [
        {
          "output_type": "stream",
          "name": "stdout",
          "text": [
            "1 \n",
            "2 3 \n",
            "4 5 6 \n",
            "7 8 9 10 \n",
            "11 12 13 14 15 \n"
          ]
        }
      ]
    },
    {
      "cell_type": "code",
      "source": [
        "#7\n",
        "n = 5  # Diamond half height\n",
        "\n",
        "# Upper half\n",
        "for i in range(1, n + 1):\n",
        "    print(' ' * (n - i) + '*' * (2 * i - 1))\n",
        "\n",
        "# Lower half\n",
        "for i in range(n - 1, 0, -1):\n",
        "    print(' ' * (n - i) + '*' * (2 * i - 1))\n"
      ],
      "metadata": {
        "colab": {
          "base_uri": "https://localhost:8080/"
        },
        "id": "iLOqfmwy8Gth",
        "outputId": "84ece529-bf5d-4deb-9929-91fca0ebb335"
      },
      "execution_count": 7,
      "outputs": [
        {
          "output_type": "stream",
          "name": "stdout",
          "text": [
            "    *\n",
            "   ***\n",
            "  *****\n",
            " *******\n",
            "*********\n",
            " *******\n",
            "  *****\n",
            "   ***\n",
            "    *\n"
          ]
        }
      ]
    },
    {
      "cell_type": "code",
      "source": [
        "#8\n",
        "n = 5  # Number of rows\n",
        "\n",
        "for i in range(1, n + 1):\n",
        "    print(' '.join(str(i) for _ in range(i)))\n"
      ],
      "metadata": {
        "colab": {
          "base_uri": "https://localhost:8080/"
        },
        "id": "QBlFqg3d8d4k",
        "outputId": "dfca7cf9-9368-47be-d9e4-1b4806c66da0"
      },
      "execution_count": 8,
      "outputs": [
        {
          "output_type": "stream",
          "name": "stdout",
          "text": [
            "1\n",
            "2 2\n",
            "3 3 3\n",
            "4 4 4 4\n",
            "5 5 5 5 5\n"
          ]
        }
      ]
    },
    {
      "cell_type": "code",
      "source": [
        "#9\n",
        "n = 5  # Number of rows\n",
        "\n",
        "for i in range(1, n + 1):\n",
        "    print(' '.join(str(i) for _ in range(i)))\n"
      ],
      "metadata": {
        "colab": {
          "base_uri": "https://localhost:8080/"
        },
        "id": "v7OxOTWu8kVE",
        "outputId": "6cd9e47f-66e0-4107-f642-cd89b44c055b"
      },
      "execution_count": 9,
      "outputs": [
        {
          "output_type": "stream",
          "name": "stdout",
          "text": [
            "1\n",
            "2 2\n",
            "3 3 3\n",
            "4 4 4 4\n",
            "5 5 5 5 5\n"
          ]
        }
      ]
    },
    {
      "cell_type": "code",
      "source": [
        "#10\n",
        "n = 5  # Half height of the diamond\n",
        "\n",
        "# Upper half\n",
        "for i in range(1, n + 1):\n",
        "    for j in range(n - i):\n",
        "        print(\" \", end=\"\")\n",
        "    for j in range(2 * i - 1):\n",
        "        if j == 0 or j == 2 * i - 2:\n",
        "            print(\"*\", end=\"\")\n",
        "        else:\n",
        "            print(\" \", end=\"\")\n",
        "    print()\n",
        "\n",
        "# Lower half\n",
        "for i in range(n - 1, 0, -1):\n",
        "    for j in range(n - i):\n",
        "        print(\" \", end=\"\")\n",
        "    for j in range(2 * i - 1):\n",
        "        if j == 0 or j == 2 * i - 2:\n",
        "            print(\"*\", end=\"\")\n",
        "        else:\n",
        "            print(\" \", end=\"\")\n",
        "    print()\n"
      ],
      "metadata": {
        "colab": {
          "base_uri": "https://localhost:8080/"
        },
        "id": "NgAuAg5Y8_LQ",
        "outputId": "eb5ae179-cf23-4ce8-b152-3f4f41f930d5"
      },
      "execution_count": 10,
      "outputs": [
        {
          "output_type": "stream",
          "name": "stdout",
          "text": [
            "    *\n",
            "   * *\n",
            "  *   *\n",
            " *     *\n",
            "*       *\n",
            " *     *\n",
            "  *   *\n",
            "   * *\n",
            "    *\n"
          ]
        }
      ]
    }
  ]
}