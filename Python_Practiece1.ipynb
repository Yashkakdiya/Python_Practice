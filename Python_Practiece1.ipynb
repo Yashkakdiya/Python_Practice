{
  "nbformat": 4,
  "nbformat_minor": 0,
  "metadata": {
    "colab": {
      "provenance": []
    },
    "kernelspec": {
      "name": "python3",
      "display_name": "Python 3"
    },
    "language_info": {
      "name": "python"
    }
  },
  "cells": [
    {
      "cell_type": "code",
      "execution_count": 1,
      "metadata": {
        "colab": {
          "base_uri": "https://localhost:8080/"
        },
        "id": "i3MIkBsyn8Xo",
        "outputId": "18c07545-0d27-4971-ac9b-10fe80c72f24"
      },
      "outputs": [
        {
          "output_type": "stream",
          "name": "stdout",
          "text": [
            "12\n",
            "no\n"
          ]
        }
      ],
      "source": [
        "#1\n",
        "\n",
        "r=input(\"\")\n",
        "vow=\"aeiouAEIOU\"\n",
        "if r in vow:\n",
        "    print(\"yes\")\n",
        "else:\n",
        "    print(\"no\")"
      ]
    },
    {
      "cell_type": "code",
      "source": [
        "#2\n",
        "\n",
        "num=int(input(\"num\"))\n",
        "\n",
        "p1=num*2\n",
        "p2=num*3\n",
        "p3=num*4\n",
        "p4=num*5\n",
        "\n",
        "if num <= 5:\n",
        "    print(p1)\n",
        "else:\n",
        "    if 6 <= num <= 10:\n",
        "        print(p2)\n",
        "    else:\n",
        "        if 11 <= num <= 15:\n",
        "            print(p3)\n",
        "        else:\n",
        "            if num > 15:\n",
        "                print(p4)"
      ],
      "metadata": {
        "id": "Y9I5wYG-rUR3"
      },
      "execution_count": null,
      "outputs": []
    },
    {
      "cell_type": "code",
      "source": [
        "#3\n",
        "\n",
        "a=int(input(\"\"))\n",
        "\n",
        "if a % 2 == 1:\n",
        "    print(\"WEIRD\")\n",
        "else:\n",
        "    if a % 2 == 0 and 2 <= a <= 5:\n",
        "        print(\"NOT WEIRD\")\n",
        "    else:\n",
        "        if a % 2 == 0 and a >= 20:\n",
        "            print (\"NOT WEIRD\")"
      ],
      "metadata": {
        "id": "iizPymHSrWqB"
      },
      "execution_count": null,
      "outputs": []
    }
  ]
}
